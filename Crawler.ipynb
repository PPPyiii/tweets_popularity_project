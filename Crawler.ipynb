{
  "nbformat": 4,
  "nbformat_minor": 0,
  "metadata": {
    "colab": {
      "name": "crawler2.ipynb",
      "provenance": [],
      "collapsed_sections": []
    },
    "kernelspec": {
      "name": "python3",
      "display_name": "Python 3"
    },
    "language_info": {
      "name": "python"
    }
  },
  "cells": [
    {
      "cell_type": "code",
      "metadata": {
        "id": "B6y_-PfarnKO"
      },
      "source": [
        "import os\n",
        "import tweepy as tw\n",
        "import pandas as pd\n",
        "import numpy as np\n",
        "import matplotlib.pyplot as plt\n",
        "from tqdm import tqdm"
      ],
      "execution_count": 1,
      "outputs": []
    },
    {
      "cell_type": "code",
      "metadata": {
        "id": "OPcENTQ-r2g4"
      },
      "source": [
        "def twitter_connection():\n",
        "    consumer_api_key = \"cWQovPtPiMiO15bQbmgxdk92T\"\n",
        "    consumer_api_secret = \"5KApQ5UnUIzjfi2bs1WmXwgvoR1aXhhYngYUJqsY4KLkk7dtRZ\"\n",
        "\n",
        "    auth = tw.OAuthHandler(consumer_api_key, consumer_api_secret)\n",
        "    api = tw.API(auth, wait_on_rate_limit=True)\n",
        "    return api\n"
      ],
      "execution_count": 2,
      "outputs": []
    },
    {
      "cell_type": "code",
      "metadata": {
        "id": "L4qoTmsLr4_L"
      },
      "source": [
        "def create_cursor(api, search_words, date_since, language=\"en\", items_limit=10000):\n",
        "    \n",
        "    # Collect tweets\n",
        "    tweets = tw.Cursor(api.search,\n",
        "                  q=search_words,\n",
        "                  lang=language,\n",
        "                  since=date_since).items(items_limit)\n",
        "\n",
        "\n",
        "    print(f\"retreive new tweets ...\")\n",
        "    tweets_copy = []\n",
        "    for tweet in tqdm(tweets):\n",
        "        tweets_copy.append(tweet)\n",
        "     \n",
        "    print(f\"new tweets retrieved: {len(tweets_copy)}\")\n",
        "\n",
        "    return tweets_copy"
      ],
      "execution_count": 3,
      "outputs": []
    },
    {
      "cell_type": "code",
      "metadata": {
        "id": "355vZzZTr7M1"
      },
      "source": [
        "def build_dataset(tweets_copy):\n",
        "    tweets_df = pd.DataFrame()\n",
        "    for tweet in tqdm(tweets_copy):\n",
        "        hashtags = []\n",
        "        try:\n",
        "            for hashtag in tweet.entities[\"hashtags\"]:\n",
        "                hashtags.append(hashtag[\"text\"])\n",
        "        except:\n",
        "            pass\n",
        "        tweets_df = tweets_df.append(pd.DataFrame({'id': tweet.id,\n",
        "                                                   'user_name': tweet.user.name, \n",
        "                                                   'user_location': tweet.user.location,\\\n",
        "                                                   'user_description': tweet.user.description,\n",
        "                                                   'user_created': tweet.user.created_at,\n",
        "                                                   'user_followers': tweet.user.followers_count,\n",
        "                                                   'user_friends': tweet.user.friends_count,\n",
        "                                                   'user_favourites': tweet.user.favourites_count,\n",
        "                                                   'user_verified': tweet.user.verified,\n",
        "                                                   'date': tweet.created_at,\n",
        "                                                   'text': tweet.text, \n",
        "                                                   'hashtags': [hashtags if hashtags else None],\n",
        "                                                   'source': tweet.source,\n",
        "                                                   'retweets': tweet.retweet_count,\n",
        "                                                   'favorites': tweet.favorite_count,\n",
        "                                                   'is_retweet': tweet.retweeted}, index=[0]))\n",
        "    return tweets_df"
      ],
      "execution_count": 4,
      "outputs": []
    },
    {
      "cell_type": "code",
      "metadata": {
        "id": "sV3v9HfGr8wQ"
      },
      "source": [
        "def update_and_save_dataset(tweets_df):   \n",
        "    file_path = \"tokyo_2020_tweets.csv\"\n",
        "    if os.path.exists(file_path):\n",
        "        tweets_old_df = pd.read_csv(file_path)\n",
        "        print(f\"past tweets: {tweets_old_df.shape}\")\n",
        "        tweets_all_df = pd.concat([tweets_old_df, tweets_df], axis=0)\n",
        "        print(f\"new tweets: {tweets_df.shape[0]} past tweets: {tweets_old_df.shape[0]} all tweets: {tweets_all_df.shape[0]}\")\n",
        "        tweets_new_df = tweets_all_df.drop_duplicates(subset = [\"id\"], keep='last', inplace=False)\n",
        "        print(f\"all tweets: {tweets_new_df.shape}\")\n",
        "        tweets_new_df.to_csv(file_path, index=False)\n",
        "    else:\n",
        "        print(f\"tweets: {tweets_df.shape}\")\n",
        "        tweets_df.to_csv(file_path, index=False)"
      ],
      "execution_count": 5,
      "outputs": []
    },
    {
      "cell_type": "markdown",
      "metadata": {
        "id": "PQHkDq_asDAA"
      },
      "source": [
        "##APPLY API\n"
      ]
    },
    {
      "cell_type": "code",
      "metadata": {
        "colab": {
          "base_uri": "https://localhost:8080/"
        },
        "id": "1YCJnlx6r-iY",
        "outputId": "009f104f-d157-4d24-c0af-d33896f0631a"
      },
      "source": [
        "api = twitter_connection()\n",
        "tweets_copy = create_cursor(api=api, search_words=\"Olympic2021 -filter:retweets\",\n",
        "                                date_since=\"2020-07-22\",language=\"en\",\n",
        "                                items_limit=15000)"
      ],
      "execution_count": 8,
      "outputs": [
        {
          "output_type": "stream",
          "name": "stdout",
          "text": [
            "retreive new tweets ...\n"
          ]
        },
        {
          "output_type": "stream",
          "name": "stderr",
          "text": [
            "1it [00:00,  4.94it/s]"
          ]
        },
        {
          "output_type": "stream",
          "name": "stdout",
          "text": [
            "new tweets retrieved: 1\n"
          ]
        },
        {
          "output_type": "stream",
          "name": "stderr",
          "text": [
            "\n"
          ]
        }
      ]
    },
    {
      "cell_type": "code",
      "metadata": {
        "colab": {
          "base_uri": "https://localhost:8080/",
          "height": 272
        },
        "id": "SFEqROoospfs",
        "outputId": "ad62cfad-127c-4da2-d90d-21fdbc272a52"
      },
      "source": [
        "tweets_df = build_dataset(tweets_copy)\n",
        "update_and_save_dataset(tweets_df)\n",
        "tweets_df"
      ],
      "execution_count": 9,
      "outputs": [
        {
          "output_type": "stream",
          "name": "stderr",
          "text": [
            "100%|██████████| 1/1 [00:00<00:00, 54.56it/s]"
          ]
        },
        {
          "output_type": "stream",
          "name": "stdout",
          "text": [
            "tweets: (1, 16)\n"
          ]
        },
        {
          "output_type": "stream",
          "name": "stderr",
          "text": [
            "\n"
          ]
        },
        {
          "output_type": "execute_result",
          "data": {
            "text/html": [
              "<div>\n",
              "<style scoped>\n",
              "    .dataframe tbody tr th:only-of-type {\n",
              "        vertical-align: middle;\n",
              "    }\n",
              "\n",
              "    .dataframe tbody tr th {\n",
              "        vertical-align: top;\n",
              "    }\n",
              "\n",
              "    .dataframe thead th {\n",
              "        text-align: right;\n",
              "    }\n",
              "</style>\n",
              "<table border=\"1\" class=\"dataframe\">\n",
              "  <thead>\n",
              "    <tr style=\"text-align: right;\">\n",
              "      <th></th>\n",
              "      <th>id</th>\n",
              "      <th>user_name</th>\n",
              "      <th>user_location</th>\n",
              "      <th>user_description</th>\n",
              "      <th>user_created</th>\n",
              "      <th>user_followers</th>\n",
              "      <th>user_friends</th>\n",
              "      <th>user_favourites</th>\n",
              "      <th>user_verified</th>\n",
              "      <th>date</th>\n",
              "      <th>text</th>\n",
              "      <th>hashtags</th>\n",
              "      <th>source</th>\n",
              "      <th>retweets</th>\n",
              "      <th>favorites</th>\n",
              "      <th>is_retweet</th>\n",
              "    </tr>\n",
              "  </thead>\n",
              "  <tbody>\n",
              "    <tr>\n",
              "      <th>0</th>\n",
              "      <td>1465572788832387075</td>\n",
              "      <td>Poornima University</td>\n",
              "      <td>Jaipur</td>\n",
              "      <td>Building a community of wide ranging interests...</td>\n",
              "      <td>2012-03-17 06:36:29</td>\n",
              "      <td>1849</td>\n",
              "      <td>79</td>\n",
              "      <td>356</td>\n",
              "      <td>False</td>\n",
              "      <td>2021-11-30 06:45:56</td>\n",
              "      <td>We would like to inform you that Dr. Suresh Pa...</td>\n",
              "      <td>None</td>\n",
              "      <td>Twitter for iPhone</td>\n",
              "      <td>0</td>\n",
              "      <td>2</td>\n",
              "      <td>False</td>\n",
              "    </tr>\n",
              "  </tbody>\n",
              "</table>\n",
              "</div>"
            ],
            "text/plain": [
              "                    id            user_name  ... favorites is_retweet\n",
              "0  1465572788832387075  Poornima University  ...         2      False\n",
              "\n",
              "[1 rows x 16 columns]"
            ]
          },
          "metadata": {},
          "execution_count": 9
        }
      ]
    },
    {
      "cell_type": "code",
      "metadata": {
        "id": "6MMfgvpdsrqh"
      },
      "source": [
        "df = tweets_df\n",
        "#drop duplicates 去重\n",
        "data=df.drop_duplicates(subset=['id'],keep='first',inplace=False)\n",
        "data=df.drop_duplicates(subset=['text'],keep='first',inplace=False)\n",
        "#only original tweets 筛选is retweet是false的原创微博\n",
        "data = data[data['is_retweet']==False] #159470 rows × 16 columns\n",
        "\n",
        "# drop na 去空\n",
        "data = data[['id','user_name','user_followers','user_verified','date','text','retweets','favorites','is_retweet']]\n",
        "data = data.dropna()"
      ],
      "execution_count": 10,
      "outputs": []
    },
    {
      "cell_type": "code",
      "metadata": {
        "colab": {
          "base_uri": "https://localhost:8080/"
        },
        "id": "R2mSMcfRsxgr",
        "outputId": "ec8a31ce-c910-48af-db36-28a28ffaf166"
      },
      "source": [
        "data = data[data['favorites']>0]\n",
        "data = data[['id','user_name','user_followers','user_verified','date','text','retweets','favorites','is_retweet']]\n",
        "len(data)"
      ],
      "execution_count": 11,
      "outputs": [
        {
          "output_type": "execute_result",
          "data": {
            "text/plain": [
              "1"
            ]
          },
          "metadata": {},
          "execution_count": 11
        }
      ]
    },
    {
      "cell_type": "code",
      "metadata": {
        "colab": {
          "base_uri": "https://localhost:8080/",
          "height": 364
        },
        "id": "ZYpEy4rhvP0c",
        "outputId": "81a21036-9ac5-4eaf-ba17-e562066cd82d"
      },
      "source": [
        "# distribution of favourites\n",
        "likesnum = data['favorites'].astype(int)#转化成整数，原来的数据有float有string比较杂乱\n",
        "likesnum = np.array(likesnum)\n",
        "print(\"最大的点赞量：\",likesnum.max())\n",
        "print(\"favorites num is 0:\",sum(likesnum==0))\n",
        "like_0_10 = ((0 <= likesnum) & (likesnum < 10)).sum()#0-10\n",
        "like_10_50 =((10 <= likesnum) & (likesnum < 50)).sum() #10-50\n",
        "like_50_100 = ((50 <= likesnum) & (likesnum < 100)).sum()#50-100 41424\n",
        "like_100_1000 = ((100 <= likesnum) & (likesnum < 1000)).sum()#100-1000 16967\n",
        "like_1000_1w = ((1000 <= likesnum) & (likesnum < 10000)).sum()#1000-1w 7673\n",
        "like_1w_10w = ((10000 <= likesnum) & (likesnum < 100000)).sum()#1000-1w 7673\n",
        "\n",
        "\n",
        "x = range(6)\n",
        "y = np.array([like_0_10, like_10_50, like_50_100, like_100_1000, like_1000_1w, like_1w_10w])\n",
        "\n",
        "x_label = [\"0-10\",\"10-50\",\"50-100\",\"100-1,000\",\"1,000-10,000\",\"10,000-100,000\"]\n",
        "plt.xticks(x,x_label,size=\"small\",rotation=50)\n",
        "\n",
        "\n",
        "plt.ylabel(\"Total number of favourites in each range\")\n",
        "for a,b in zip(x,y):\n",
        "  plt.text(a, b+0.05, '%.0f' % b, ha='center', va= 'bottom',fontsize=10)\n",
        "plt.title(\"distribution of favourites number\")\n",
        "plt.bar(x,y)\n",
        "plt.show()"
      ],
      "execution_count": 12,
      "outputs": [
        {
          "output_type": "stream",
          "name": "stdout",
          "text": [
            "最大的点赞量： 2\n",
            "favorites num is 0: 0\n"
          ]
        },
        {
          "output_type": "display_data",
          "data": {
            "image/png": "[encoded data removed]",
            "text/plain": [
              "<Figure size 432x288 with 1 Axes>"
            ]
          },
          "metadata": {
            "needs_background": "light"
          }
        }
      ]
    },
    {
      "cell_type": "code",
      "metadata": {
        "id": "4DYH8XZas0zp"
      },
      "source": [
        "# t = data.to_csv(\"data1080\")"
      ],
      "execution_count": null,
      "outputs": []
    }
  ]
}